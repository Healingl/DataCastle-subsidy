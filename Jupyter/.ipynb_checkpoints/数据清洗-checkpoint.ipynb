{
 "cells": [
  {
   "cell_type": "markdown",
   "metadata": {},
   "source": [
    "# 数据探索与清洗\n",
    "\n",
    "因为按照常理助学金是给家庭有经济困难的学生的，而学生的消费情况比较能反映学生的经济状况，所以本次探索会先清洗出学生的各类消费情况及总消费。\n",
    "学习成绩也应该会对奖学金的评定有一定的影响，以我在本科读书时的经验来看，成绩好的能拿奖学金一般不会申请或者不能通过助学金的审批，而曾经太差也会影响，所以我第二步准备将学生成绩清洗为在学院的排名，及学院人数这两个变量。\n",
    "\n",
    "### 步骤\n",
    "#### step1 清晰学生饭卡数据\n",
    "\n",
    "#### step2 清洗学生学习成绩数据\n",
    "\n",
    "## 处理学生消费数据"
   ]
  },
  {
   "cell_type": "code",
   "execution_count": 1,
   "metadata": {
    "collapsed": false
   },
   "outputs": [],
   "source": [
    "import pandas as pd \n",
    "import warnings \n",
    "warnings.filterwarnings(\"ignore\")\n",
    "names_card = [ '学生id','消费类别','消费地点','消费方式','消费时间','消费金额','剩余金额']\n",
    "# 导入数据\n",
    "card_train = pd.read_csv(\"../input/card_train.txt\",header=None,encoding='utf-8',names = names_card)\n",
    "card_test = pd.read_csv(\"../input/card_test.txt\",header=None,encoding='utf-8',names = names_card)\n",
    "card_data = pd.concat([card_train,card_test])\n",
    "\n",
    "del card_test,card_train"
   ]
  },
  {
   "cell_type": "code",
   "execution_count": 6,
   "metadata": {
    "collapsed": false
   },
   "outputs": [
    {
     "data": {
      "text/plain": [
       "count     23998315\n",
       "unique          11\n",
       "top             食堂\n",
       "freq       9027893\n",
       "Name: 消费方式, dtype: object"
      ]
     },
     "execution_count": 6,
     "metadata": {},
     "output_type": "execute_result"
    }
   ],
   "source": [
    "card_data['消费方式'] = card_data['消费方式'].astype('category')\n",
    "card_data['消费方式'].describe()"
   ]
  },
  {
   "cell_type": "code",
   "execution_count": 8,
   "metadata": {
    "collapsed": false
   },
   "outputs": [
    {
     "name": "stdout",
     "output_type": "stream",
     "text": [
      "[淋浴, 开水, 其他, 洗衣房, 文印中心, ..., 食堂, 校车, NaN, 超市, 校医院]\n",
      "Length: 12\n",
      "Categories (11, object): [淋浴, 开水, 其他, 洗衣房, ..., 食堂, 校车, 超市, 校医院]\n"
     ]
    }
   ],
   "source": [
    "print(card_data['消费方式'].unique())"
   ]
  },
  {
   "cell_type": "markdown",
   "metadata": {},
   "source": [
    "数据总共记录了11类消费数据（不含Nan），23998315次消费，其中食堂消费次数最多"
   ]
  },
  {
   "cell_type": "code",
   "execution_count": 9,
   "metadata": {
    "collapsed": false
   },
   "outputs": [
    {
     "data": {
      "text/plain": [
       "学生id         0\n",
       "消费类别     62723\n",
       "消费地点    850087\n",
       "消费方式    850087\n",
       "消费时间         0\n",
       "消费金额         0\n",
       "剩余金额         0\n",
       "dtype: int64"
      ]
     },
     "execution_count": 9,
     "metadata": {},
     "output_type": "execute_result"
    }
   ],
   "source": [
    "# 缺失值处理\n",
    "# 查看Ｎａｎ\n",
    "card_data.isnull().sum()"
   ]
  },
  {
   "cell_type": "code",
   "execution_count": 18,
   "metadata": {
    "collapsed": false
   },
   "outputs": [],
   "source": [
    "# 由于消费方式中食堂消费最多，使用食堂代替缺失的消费类别\n",
    "card_data['消费方式'].fillna('食堂',inplace=True)"
   ]
  },
  {
   "cell_type": "code",
   "execution_count": 11,
   "metadata": {
    "collapsed": true
   },
   "outputs": [],
   "source": [
    "#每个学生的总消费\n",
    "card_sum_by_ID = card_data.groupby('学生id')['消费金额'].sum()"
   ]
  },
  {
   "cell_type": "code",
   "execution_count": 12,
   "metadata": {
    "collapsed": false
   },
   "outputs": [
    {
     "data": {
      "text/plain": [
       "学生id\n",
       "0      4997.56\n",
       "1      6182.69\n",
       "2      4966.65\n",
       "3        42.40\n",
       "8     11472.37\n",
       "9     14502.91\n",
       "10     6028.74\n",
       "11     5976.20\n",
       "16     2974.56\n",
       "17      495.85\n",
       "19     3331.06\n",
       "20     6393.73\n",
       "21     3165.76\n",
       "22    11328.89\n",
       "23    10959.76\n",
       "28     6401.58\n",
       "29     3845.78\n",
       "32     2093.69\n",
       "33       97.52\n",
       "34     7647.02\n",
       "Name: 消费金额, dtype: float64"
      ]
     },
     "execution_count": 12,
     "metadata": {},
     "output_type": "execute_result"
    }
   ],
   "source": [
    "card_sum_by_ID.head(20)"
   ]
  },
  {
   "cell_type": "code",
   "execution_count": 22,
   "metadata": {
    "collapsed": true
   },
   "outputs": [],
   "source": [
    "## 每个学生各类别的消费\n",
    "card_sum_by_ID_type = card_data.groupby(['学生id','消费方式'])['消费金额'].sum().unstack('消费方式')"
   ]
  },
  {
   "cell_type": "code",
   "execution_count": 23,
   "metadata": {
    "collapsed": false
   },
   "outputs": [
    {
     "data": {
      "text/html": [
       "<div>\n",
       "<table border=\"1\" class=\"dataframe\">\n",
       "  <thead>\n",
       "    <tr style=\"text-align: right;\">\n",
       "      <th>消费方式</th>\n",
       "      <th>其他</th>\n",
       "      <th>图书馆</th>\n",
       "      <th>开水</th>\n",
       "      <th>教务处</th>\n",
       "      <th>文印中心</th>\n",
       "      <th>校医院</th>\n",
       "      <th>校车</th>\n",
       "      <th>洗衣房</th>\n",
       "      <th>淋浴</th>\n",
       "      <th>超市</th>\n",
       "      <th>食堂</th>\n",
       "    </tr>\n",
       "    <tr>\n",
       "      <th>学生id</th>\n",
       "      <th></th>\n",
       "      <th></th>\n",
       "      <th></th>\n",
       "      <th></th>\n",
       "      <th></th>\n",
       "      <th></th>\n",
       "      <th></th>\n",
       "      <th></th>\n",
       "      <th></th>\n",
       "      <th></th>\n",
       "      <th></th>\n",
       "    </tr>\n",
       "  </thead>\n",
       "  <tbody>\n",
       "    <tr>\n",
       "      <th>0</th>\n",
       "      <td>NaN</td>\n",
       "      <td>84.4</td>\n",
       "      <td>429.58</td>\n",
       "      <td>NaN</td>\n",
       "      <td>0.3</td>\n",
       "      <td>NaN</td>\n",
       "      <td>417.49</td>\n",
       "      <td>NaN</td>\n",
       "      <td>12.30</td>\n",
       "      <td>839.68</td>\n",
       "      <td>3213.81</td>\n",
       "    </tr>\n",
       "    <tr>\n",
       "      <th>1</th>\n",
       "      <td>NaN</td>\n",
       "      <td>324.2</td>\n",
       "      <td>265.97</td>\n",
       "      <td>29.3</td>\n",
       "      <td>96.4</td>\n",
       "      <td>NaN</td>\n",
       "      <td>119.40</td>\n",
       "      <td>25.02</td>\n",
       "      <td>22.50</td>\n",
       "      <td>514.30</td>\n",
       "      <td>4785.60</td>\n",
       "    </tr>\n",
       "    <tr>\n",
       "      <th>2</th>\n",
       "      <td>0.01</td>\n",
       "      <td>22.4</td>\n",
       "      <td>670.36</td>\n",
       "      <td>NaN</td>\n",
       "      <td>NaN</td>\n",
       "      <td>NaN</td>\n",
       "      <td>34.88</td>\n",
       "      <td>22.20</td>\n",
       "      <td>53.10</td>\n",
       "      <td>829.95</td>\n",
       "      <td>3333.75</td>\n",
       "    </tr>\n",
       "    <tr>\n",
       "      <th>3</th>\n",
       "      <td>NaN</td>\n",
       "      <td>NaN</td>\n",
       "      <td>0.18</td>\n",
       "      <td>NaN</td>\n",
       "      <td>NaN</td>\n",
       "      <td>NaN</td>\n",
       "      <td>NaN</td>\n",
       "      <td>7.62</td>\n",
       "      <td>34.60</td>\n",
       "      <td>NaN</td>\n",
       "      <td>NaN</td>\n",
       "    </tr>\n",
       "    <tr>\n",
       "      <th>8</th>\n",
       "      <td>NaN</td>\n",
       "      <td>425.9</td>\n",
       "      <td>2440.94</td>\n",
       "      <td>NaN</td>\n",
       "      <td>2.6</td>\n",
       "      <td>NaN</td>\n",
       "      <td>2211.45</td>\n",
       "      <td>4.50</td>\n",
       "      <td>39.83</td>\n",
       "      <td>10.00</td>\n",
       "      <td>6337.15</td>\n",
       "    </tr>\n",
       "  </tbody>\n",
       "</table>\n",
       "</div>"
      ],
      "text/plain": [
       "消费方式    其他    图书馆       开水   教务处  文印中心  校医院       校车    洗衣房     淋浴      超市  \\\n",
       "学生id                                                                         \n",
       "0      NaN   84.4   429.58   NaN   0.3  NaN   417.49    NaN  12.30  839.68   \n",
       "1      NaN  324.2   265.97  29.3  96.4  NaN   119.40  25.02  22.50  514.30   \n",
       "2     0.01   22.4   670.36   NaN   NaN  NaN    34.88  22.20  53.10  829.95   \n",
       "3      NaN    NaN     0.18   NaN   NaN  NaN      NaN   7.62  34.60     NaN   \n",
       "8      NaN  425.9  2440.94   NaN   2.6  NaN  2211.45   4.50  39.83   10.00   \n",
       "\n",
       "消费方式       食堂  \n",
       "学生id           \n",
       "0     3213.81  \n",
       "1     4785.60  \n",
       "2     3333.75  \n",
       "3         NaN  \n",
       "8     6337.15  "
      ]
     },
     "execution_count": 23,
     "metadata": {},
     "output_type": "execute_result"
    }
   ],
   "source": [
    "card_sum_by_ID_type.head()"
   ]
  },
  {
   "cell_type": "code",
   "execution_count": 25,
   "metadata": {
    "collapsed": false
   },
   "outputs": [],
   "source": [
    "# 缺失值\n",
    "card_sum_by_ID_type.fillna(0,inplace=True)"
   ]
  },
  {
   "cell_type": "code",
   "execution_count": 26,
   "metadata": {
    "collapsed": false
   },
   "outputs": [
    {
     "data": {
      "text/html": [
       "<div>\n",
       "<table border=\"1\" class=\"dataframe\">\n",
       "  <thead>\n",
       "    <tr style=\"text-align: right;\">\n",
       "      <th>消费方式</th>\n",
       "      <th>其他</th>\n",
       "      <th>图书馆</th>\n",
       "      <th>开水</th>\n",
       "      <th>教务处</th>\n",
       "      <th>文印中心</th>\n",
       "      <th>校医院</th>\n",
       "      <th>校车</th>\n",
       "      <th>洗衣房</th>\n",
       "      <th>淋浴</th>\n",
       "      <th>超市</th>\n",
       "      <th>食堂</th>\n",
       "    </tr>\n",
       "    <tr>\n",
       "      <th>学生id</th>\n",
       "      <th></th>\n",
       "      <th></th>\n",
       "      <th></th>\n",
       "      <th></th>\n",
       "      <th></th>\n",
       "      <th></th>\n",
       "      <th></th>\n",
       "      <th></th>\n",
       "      <th></th>\n",
       "      <th></th>\n",
       "      <th></th>\n",
       "    </tr>\n",
       "  </thead>\n",
       "  <tbody>\n",
       "    <tr>\n",
       "      <th>0</th>\n",
       "      <td>0.00</td>\n",
       "      <td>84.4</td>\n",
       "      <td>429.58</td>\n",
       "      <td>0.0</td>\n",
       "      <td>0.3</td>\n",
       "      <td>0.0</td>\n",
       "      <td>417.49</td>\n",
       "      <td>0.00</td>\n",
       "      <td>12.30</td>\n",
       "      <td>839.68</td>\n",
       "      <td>3213.81</td>\n",
       "    </tr>\n",
       "    <tr>\n",
       "      <th>1</th>\n",
       "      <td>0.00</td>\n",
       "      <td>324.2</td>\n",
       "      <td>265.97</td>\n",
       "      <td>29.3</td>\n",
       "      <td>96.4</td>\n",
       "      <td>0.0</td>\n",
       "      <td>119.40</td>\n",
       "      <td>25.02</td>\n",
       "      <td>22.50</td>\n",
       "      <td>514.30</td>\n",
       "      <td>4785.60</td>\n",
       "    </tr>\n",
       "    <tr>\n",
       "      <th>2</th>\n",
       "      <td>0.01</td>\n",
       "      <td>22.4</td>\n",
       "      <td>670.36</td>\n",
       "      <td>0.0</td>\n",
       "      <td>0.0</td>\n",
       "      <td>0.0</td>\n",
       "      <td>34.88</td>\n",
       "      <td>22.20</td>\n",
       "      <td>53.10</td>\n",
       "      <td>829.95</td>\n",
       "      <td>3333.75</td>\n",
       "    </tr>\n",
       "    <tr>\n",
       "      <th>3</th>\n",
       "      <td>0.00</td>\n",
       "      <td>0.0</td>\n",
       "      <td>0.18</td>\n",
       "      <td>0.0</td>\n",
       "      <td>0.0</td>\n",
       "      <td>0.0</td>\n",
       "      <td>0.00</td>\n",
       "      <td>7.62</td>\n",
       "      <td>34.60</td>\n",
       "      <td>0.00</td>\n",
       "      <td>0.00</td>\n",
       "    </tr>\n",
       "    <tr>\n",
       "      <th>8</th>\n",
       "      <td>0.00</td>\n",
       "      <td>425.9</td>\n",
       "      <td>2440.94</td>\n",
       "      <td>0.0</td>\n",
       "      <td>2.6</td>\n",
       "      <td>0.0</td>\n",
       "      <td>2211.45</td>\n",
       "      <td>4.50</td>\n",
       "      <td>39.83</td>\n",
       "      <td>10.00</td>\n",
       "      <td>6337.15</td>\n",
       "    </tr>\n",
       "  </tbody>\n",
       "</table>\n",
       "</div>"
      ],
      "text/plain": [
       "消费方式    其他    图书馆       开水   教务处  文印中心  校医院       校车    洗衣房     淋浴      超市  \\\n",
       "学生id                                                                         \n",
       "0     0.00   84.4   429.58   0.0   0.3  0.0   417.49   0.00  12.30  839.68   \n",
       "1     0.00  324.2   265.97  29.3  96.4  0.0   119.40  25.02  22.50  514.30   \n",
       "2     0.01   22.4   670.36   0.0   0.0  0.0    34.88  22.20  53.10  829.95   \n",
       "3     0.00    0.0     0.18   0.0   0.0  0.0     0.00   7.62  34.60    0.00   \n",
       "8     0.00  425.9  2440.94   0.0   2.6  0.0  2211.45   4.50  39.83   10.00   \n",
       "\n",
       "消费方式       食堂  \n",
       "学生id           \n",
       "0     3213.81  \n",
       "1     4785.60  \n",
       "2     3333.75  \n",
       "3        0.00  \n",
       "8     6337.15  "
      ]
     },
     "execution_count": 26,
     "metadata": {},
     "output_type": "execute_result"
    }
   ],
   "source": [
    "card_sum_by_ID_type.head()"
   ]
  },
  {
   "cell_type": "code",
   "execution_count": 32,
   "metadata": {
    "collapsed": false
   },
   "outputs": [],
   "source": [
    "## 结合数据\n",
    "card = pd.concat([card_sum_by_ID,card_sum_by_ID_type],axis =1)"
   ]
  },
  {
   "cell_type": "code",
   "execution_count": 36,
   "metadata": {
    "collapsed": false
   },
   "outputs": [],
   "source": [
    "del card_sum_by_ID,card_sum_by_ID_type,card_data\n"
   ]
  },
  {
   "cell_type": "markdown",
   "metadata": {},
   "source": [
    "## 处理学生学习成绩数据"
   ]
  },
  {
   "cell_type": "code",
   "execution_count": 37,
   "metadata": {
    "collapsed": true
   },
   "outputs": [],
   "source": [
    "name_score = ['学生id','学院编号','成绩排名']\n",
    "# 导入数据\n",
    "train = pd.read_csv(\"../input/score_train.txt\",header=None,encoding='utf-8',names = name_score)\n",
    "test = pd.read_csv(\"../input/score_test.txt\",header=None,encoding='utf-8',names = name_score)\n",
    "s_data = pd.concat([train,test])"
   ]
  },
  {
   "cell_type": "code",
   "execution_count": 44,
   "metadata": {
    "collapsed": false
   },
   "outputs": [
    {
     "data": {
      "text/plain": [
       "学院编号\n",
       "1      370\n",
       "2      398\n",
       "3     2304\n",
       "4     2416\n",
       "5     2775\n",
       "6     1570\n",
       "7      963\n",
       "8     2830\n",
       "9     2933\n",
       "10     747\n",
       "11     613\n",
       "12     513\n",
       "13    2714\n",
       "14     582\n",
       "15     631\n",
       "16     406\n",
       "17    2051\n",
       "18     193\n",
       "19    2305\n",
       "Name: 成绩排名, dtype: int64"
      ]
     },
     "execution_count": 44,
     "metadata": {},
     "output_type": "execute_result"
    }
   ],
   "source": [
    "s_data.groupby('学院编号').成绩排名.max()"
   ]
  },
  {
   "cell_type": "code",
   "execution_count": 50,
   "metadata": {
    "collapsed": false
   },
   "outputs": [
    {
     "data": {
      "text/plain": [
       "学生id    0\n",
       "学院编号    0\n",
       "成绩排名    0\n",
       "dtype: int64"
      ]
     },
     "execution_count": 50,
     "metadata": {},
     "output_type": "execute_result"
    }
   ],
   "source": [
    "s_data.isnull().sum()\n"
   ]
  },
  {
   "cell_type": "code",
   "execution_count": 51,
   "metadata": {
    "collapsed": false
   },
   "outputs": [
    {
     "name": "stdout",
     "output_type": "stream",
     "text": [
      "学生id    18130\n",
      "学院编号    18130\n",
      "成绩排名    18130\n",
      "dtype: int64\n",
      "21631\n"
     ]
    }
   ],
   "source": [
    "print(s_data.notnull().sum())\n",
    "print(card.其他.count())"
   ]
  },
  {
   "cell_type": "code",
   "execution_count": 53,
   "metadata": {
    "collapsed": false
   },
   "outputs": [
    {
     "data": {
      "text/plain": [
       "学生id    9000\n",
       "学院编号    9000\n",
       "成绩排名    9000\n",
       "dtype: int64"
      ]
     },
     "execution_count": 53,
     "metadata": {},
     "output_type": "execute_result"
    }
   ],
   "source": [
    "test.notnull().sum()"
   ]
  },
  {
   "cell_type": "markdown",
   "metadata": {},
   "source": [
    "#### 发现问题：　有消费记录的学数21631而有学习成绩记录的学生数18130，有3501人没有排名数据\n",
    "处理方案待定"
   ]
  },
  {
   "cell_type": "code",
   "execution_count": 54,
   "metadata": {
    "collapsed": true
   },
   "outputs": [],
   "source": [
    "transfored_score = s_data.groupby('学院编号').成绩排名.transform(lambda x: (x - x.mean()) / x.std())"
   ]
  },
  {
   "cell_type": "code",
   "execution_count": 55,
   "metadata": {
    "collapsed": false
   },
   "outputs": [
    {
     "data": {
      "text/plain": [
       "0      -1.681326\n",
       "1      -1.680156\n",
       "2       1.749205\n",
       "3       1.760045\n",
       "4      -1.709162\n",
       "5      -1.707670\n",
       "6      -1.647174\n",
       "7      -0.412101\n",
       "8      -0.323628\n",
       "9       0.370275\n",
       "10      0.881042\n",
       "11      0.991709\n",
       "12      0.994141\n",
       "13      1.020895\n",
       "14      1.024544\n",
       "15      1.137642\n",
       "16      1.151019\n",
       "17      1.220338\n",
       "18      1.231283\n",
       "19      1.249524\n",
       "20      1.262902\n",
       "21      1.667774\n",
       "22      1.668944\n",
       "23      1.677133\n",
       "24      1.678302\n",
       "25      1.688830\n",
       "26      1.692340\n",
       "27      1.698189\n",
       "28      1.704038\n",
       "29      1.716905\n",
       "          ...   \n",
       "8970    1.606283\n",
       "8971    1.611367\n",
       "8972    1.617722\n",
       "8973    1.618993\n",
       "8974    1.621535\n",
       "8975    1.625347\n",
       "8976    1.627889\n",
       "8977    1.629160\n",
       "8978    1.638057\n",
       "8979    1.646953\n",
       "8980    1.648224\n",
       "8981    1.653308\n",
       "8982    1.654579\n",
       "8983    1.660934\n",
       "8984    1.662205\n",
       "8985    1.663476\n",
       "8986    1.664747\n",
       "8987    1.671101\n",
       "8988    1.673643\n",
       "8989    1.674914\n",
       "8990    1.676185\n",
       "8991    1.688895\n",
       "8992    1.691437\n",
       "8993    1.692707\n",
       "8994    1.005086\n",
       "8995    1.007518\n",
       "8996    0.367005\n",
       "8997    0.371710\n",
       "8998    0.259344\n",
       "8999    1.014815\n",
       "Name: 成绩排名, dtype: float64"
      ]
     },
     "execution_count": 55,
     "metadata": {},
     "output_type": "execute_result"
    }
   ],
   "source": [
    "transfored_score "
   ]
  },
  {
   "cell_type": "code",
   "execution_count": null,
   "metadata": {
    "collapsed": true
   },
   "outputs": [],
   "source": []
  },
  {
   "cell_type": "code",
   "execution_count": null,
   "metadata": {
    "collapsed": true
   },
   "outputs": [],
   "source": []
  },
  {
   "cell_type": "code",
   "execution_count": null,
   "metadata": {
    "collapsed": true
   },
   "outputs": [],
   "source": []
  },
  {
   "cell_type": "code",
   "execution_count": null,
   "metadata": {
    "collapsed": true
   },
   "outputs": [],
   "source": []
  },
  {
   "cell_type": "code",
   "execution_count": null,
   "metadata": {
    "collapsed": true
   },
   "outputs": [],
   "source": [
    "# http://pandas.pydata.org/pandas-docs/stable/io.html#io-read-csv-table"
   ]
  }
 ],
 "metadata": {
  "anaconda-cloud": {},
  "kernelspec": {
   "display_name": "Python [default]",
   "language": "python",
   "name": "python3"
  },
  "language_info": {
   "codemirror_mode": {
    "name": "ipython",
    "version": 3
   },
   "file_extension": ".py",
   "mimetype": "text/x-python",
   "name": "python",
   "nbconvert_exporter": "python",
   "pygments_lexer": "ipython3",
   "version": "3.5.2"
  }
 },
 "nbformat": 4,
 "nbformat_minor": 1
}
