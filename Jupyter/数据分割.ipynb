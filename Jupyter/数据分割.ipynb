{
 "cells": [
  {
   "cell_type": "code",
   "execution_count": 5,
   "metadata": {
    "collapsed": false
   },
   "outputs": [],
   "source": [
    "import pandas as pd \n",
    "import warnings \n",
    "warnings.filterwarnings(\"ignore\")\n",
    "card =  pd.read_csv(\"../input/cleaned_card.csv\",index_col='学生id',encoding='utf-8')\n",
    "score =  pd.read_csv(\"../input/cleaned_score.csv\",index_col='学生id',encoding='utf-8')\n",
    "data = pd.concat([score,card],axis =1)"
   ]
  },
  {
   "cell_type": "code",
   "execution_count": 9,
   "metadata": {
    "collapsed": false
   },
   "outputs": [
    {
     "data": {
      "text/html": [
       "<div>\n",
       "<table border=\"1\" class=\"dataframe\">\n",
       "  <thead>\n",
       "    <tr style=\"text-align: right;\">\n",
       "      <th></th>\n",
       "      <th>学院编号</th>\n",
       "      <th>成绩排名</th>\n",
       "      <th>消费金额</th>\n",
       "      <th>其他</th>\n",
       "      <th>图书馆</th>\n",
       "      <th>开水</th>\n",
       "      <th>教务处</th>\n",
       "      <th>文印中心</th>\n",
       "      <th>校医院</th>\n",
       "      <th>校车</th>\n",
       "      <th>洗衣房</th>\n",
       "      <th>淋浴</th>\n",
       "      <th>超市</th>\n",
       "      <th>食堂</th>\n",
       "    </tr>\n",
       "    <tr>\n",
       "      <th>学生id</th>\n",
       "      <th></th>\n",
       "      <th></th>\n",
       "      <th></th>\n",
       "      <th></th>\n",
       "      <th></th>\n",
       "      <th></th>\n",
       "      <th></th>\n",
       "      <th></th>\n",
       "      <th></th>\n",
       "      <th></th>\n",
       "      <th></th>\n",
       "      <th></th>\n",
       "      <th></th>\n",
       "      <th></th>\n",
       "    </tr>\n",
       "  </thead>\n",
       "  <tbody>\n",
       "    <tr>\n",
       "      <th>0</th>\n",
       "      <td>9.0</td>\n",
       "      <td>-1.681326</td>\n",
       "      <td>4997.56</td>\n",
       "      <td>0.00</td>\n",
       "      <td>84.40</td>\n",
       "      <td>429.58</td>\n",
       "      <td>0.0</td>\n",
       "      <td>0.3</td>\n",
       "      <td>0.0</td>\n",
       "      <td>417.49</td>\n",
       "      <td>0.00</td>\n",
       "      <td>12.30</td>\n",
       "      <td>839.68</td>\n",
       "      <td>3213.81</td>\n",
       "    </tr>\n",
       "    <tr>\n",
       "      <th>1</th>\n",
       "      <td>9.0</td>\n",
       "      <td>-1.680156</td>\n",
       "      <td>6182.69</td>\n",
       "      <td>0.00</td>\n",
       "      <td>324.20</td>\n",
       "      <td>265.97</td>\n",
       "      <td>29.3</td>\n",
       "      <td>96.4</td>\n",
       "      <td>0.0</td>\n",
       "      <td>119.40</td>\n",
       "      <td>25.02</td>\n",
       "      <td>22.50</td>\n",
       "      <td>514.30</td>\n",
       "      <td>4785.60</td>\n",
       "    </tr>\n",
       "    <tr>\n",
       "      <th>2</th>\n",
       "      <td>9.0</td>\n",
       "      <td>0.143542</td>\n",
       "      <td>4966.65</td>\n",
       "      <td>0.01</td>\n",
       "      <td>22.40</td>\n",
       "      <td>670.36</td>\n",
       "      <td>0.0</td>\n",
       "      <td>0.0</td>\n",
       "      <td>0.0</td>\n",
       "      <td>34.88</td>\n",
       "      <td>22.20</td>\n",
       "      <td>53.10</td>\n",
       "      <td>829.95</td>\n",
       "      <td>3333.75</td>\n",
       "    </tr>\n",
       "    <tr>\n",
       "      <th>3</th>\n",
       "      <td>9.0</td>\n",
       "      <td>1.629171</td>\n",
       "      <td>42.40</td>\n",
       "      <td>0.00</td>\n",
       "      <td>0.00</td>\n",
       "      <td>0.18</td>\n",
       "      <td>0.0</td>\n",
       "      <td>0.0</td>\n",
       "      <td>0.0</td>\n",
       "      <td>0.00</td>\n",
       "      <td>7.62</td>\n",
       "      <td>34.60</td>\n",
       "      <td>0.00</td>\n",
       "      <td>0.00</td>\n",
       "    </tr>\n",
       "    <tr>\n",
       "      <th>8</th>\n",
       "      <td>6.0</td>\n",
       "      <td>1.749205</td>\n",
       "      <td>11472.37</td>\n",
       "      <td>0.00</td>\n",
       "      <td>425.90</td>\n",
       "      <td>2440.94</td>\n",
       "      <td>0.0</td>\n",
       "      <td>2.6</td>\n",
       "      <td>0.0</td>\n",
       "      <td>2211.45</td>\n",
       "      <td>4.50</td>\n",
       "      <td>39.83</td>\n",
       "      <td>10.00</td>\n",
       "      <td>6337.15</td>\n",
       "    </tr>\n",
       "    <tr>\n",
       "      <th>9</th>\n",
       "      <td>6.0</td>\n",
       "      <td>1.760045</td>\n",
       "      <td>14502.91</td>\n",
       "      <td>122.26</td>\n",
       "      <td>113.73</td>\n",
       "      <td>4754.68</td>\n",
       "      <td>0.0</td>\n",
       "      <td>294.4</td>\n",
       "      <td>0.0</td>\n",
       "      <td>158.10</td>\n",
       "      <td>23.82</td>\n",
       "      <td>36.32</td>\n",
       "      <td>0.00</td>\n",
       "      <td>8999.60</td>\n",
       "    </tr>\n",
       "    <tr>\n",
       "      <th>10</th>\n",
       "      <td>3.0</td>\n",
       "      <td>-1.709162</td>\n",
       "      <td>6028.74</td>\n",
       "      <td>0.00</td>\n",
       "      <td>272.60</td>\n",
       "      <td>750.34</td>\n",
       "      <td>1.3</td>\n",
       "      <td>0.0</td>\n",
       "      <td>0.0</td>\n",
       "      <td>486.30</td>\n",
       "      <td>65.36</td>\n",
       "      <td>143.90</td>\n",
       "      <td>242.80</td>\n",
       "      <td>4066.14</td>\n",
       "    </tr>\n",
       "    <tr>\n",
       "      <th>11</th>\n",
       "      <td>3.0</td>\n",
       "      <td>-1.707670</td>\n",
       "      <td>5976.20</td>\n",
       "      <td>0.00</td>\n",
       "      <td>134.80</td>\n",
       "      <td>928.21</td>\n",
       "      <td>0.0</td>\n",
       "      <td>4.0</td>\n",
       "      <td>0.0</td>\n",
       "      <td>989.25</td>\n",
       "      <td>9.24</td>\n",
       "      <td>164.20</td>\n",
       "      <td>107.70</td>\n",
       "      <td>3638.80</td>\n",
       "    </tr>\n",
       "    <tr>\n",
       "      <th>16</th>\n",
       "      <td>15.0</td>\n",
       "      <td>-1.747632</td>\n",
       "      <td>2974.56</td>\n",
       "      <td>0.00</td>\n",
       "      <td>38.82</td>\n",
       "      <td>914.81</td>\n",
       "      <td>0.0</td>\n",
       "      <td>5.0</td>\n",
       "      <td>3.0</td>\n",
       "      <td>291.60</td>\n",
       "      <td>0.00</td>\n",
       "      <td>48.00</td>\n",
       "      <td>14.00</td>\n",
       "      <td>1659.33</td>\n",
       "    </tr>\n",
       "    <tr>\n",
       "      <th>17</th>\n",
       "      <td>15.0</td>\n",
       "      <td>-1.742198</td>\n",
       "      <td>495.85</td>\n",
       "      <td>0.00</td>\n",
       "      <td>9.50</td>\n",
       "      <td>67.05</td>\n",
       "      <td>0.0</td>\n",
       "      <td>0.0</td>\n",
       "      <td>0.0</td>\n",
       "      <td>59.00</td>\n",
       "      <td>21.60</td>\n",
       "      <td>23.90</td>\n",
       "      <td>14.80</td>\n",
       "      <td>300.00</td>\n",
       "    </tr>\n",
       "    <tr>\n",
       "      <th>19</th>\n",
       "      <td>7.0</td>\n",
       "      <td>-1.647174</td>\n",
       "      <td>3331.06</td>\n",
       "      <td>0.00</td>\n",
       "      <td>65.40</td>\n",
       "      <td>264.69</td>\n",
       "      <td>0.0</td>\n",
       "      <td>17.7</td>\n",
       "      <td>0.0</td>\n",
       "      <td>8.90</td>\n",
       "      <td>0.00</td>\n",
       "      <td>14.90</td>\n",
       "      <td>628.16</td>\n",
       "      <td>2331.31</td>\n",
       "    </tr>\n",
       "    <tr>\n",
       "      <th>20</th>\n",
       "      <td>7.0</td>\n",
       "      <td>-0.412101</td>\n",
       "      <td>6393.73</td>\n",
       "      <td>0.00</td>\n",
       "      <td>40.70</td>\n",
       "      <td>700.86</td>\n",
       "      <td>43.6</td>\n",
       "      <td>0.0</td>\n",
       "      <td>0.0</td>\n",
       "      <td>150.73</td>\n",
       "      <td>4.90</td>\n",
       "      <td>34.10</td>\n",
       "      <td>679.80</td>\n",
       "      <td>4739.04</td>\n",
       "    </tr>\n",
       "  </tbody>\n",
       "</table>\n",
       "</div>"
      ],
      "text/plain": [
       "      学院编号      成绩排名      消费金额      其他     图书馆       开水   教务处   文印中心  校医院  \\\n",
       "学生id                                                                        \n",
       "0      9.0 -1.681326   4997.56    0.00   84.40   429.58   0.0    0.3  0.0   \n",
       "1      9.0 -1.680156   6182.69    0.00  324.20   265.97  29.3   96.4  0.0   \n",
       "2      9.0  0.143542   4966.65    0.01   22.40   670.36   0.0    0.0  0.0   \n",
       "3      9.0  1.629171     42.40    0.00    0.00     0.18   0.0    0.0  0.0   \n",
       "8      6.0  1.749205  11472.37    0.00  425.90  2440.94   0.0    2.6  0.0   \n",
       "9      6.0  1.760045  14502.91  122.26  113.73  4754.68   0.0  294.4  0.0   \n",
       "10     3.0 -1.709162   6028.74    0.00  272.60   750.34   1.3    0.0  0.0   \n",
       "11     3.0 -1.707670   5976.20    0.00  134.80   928.21   0.0    4.0  0.0   \n",
       "16    15.0 -1.747632   2974.56    0.00   38.82   914.81   0.0    5.0  3.0   \n",
       "17    15.0 -1.742198    495.85    0.00    9.50    67.05   0.0    0.0  0.0   \n",
       "19     7.0 -1.647174   3331.06    0.00   65.40   264.69   0.0   17.7  0.0   \n",
       "20     7.0 -0.412101   6393.73    0.00   40.70   700.86  43.6    0.0  0.0   \n",
       "\n",
       "           校车    洗衣房      淋浴      超市       食堂  \n",
       "学生id                                           \n",
       "0      417.49   0.00   12.30  839.68  3213.81  \n",
       "1      119.40  25.02   22.50  514.30  4785.60  \n",
       "2       34.88  22.20   53.10  829.95  3333.75  \n",
       "3        0.00   7.62   34.60    0.00     0.00  \n",
       "8     2211.45   4.50   39.83   10.00  6337.15  \n",
       "9      158.10  23.82   36.32    0.00  8999.60  \n",
       "10     486.30  65.36  143.90  242.80  4066.14  \n",
       "11     989.25   9.24  164.20  107.70  3638.80  \n",
       "16     291.60   0.00   48.00   14.00  1659.33  \n",
       "17      59.00  21.60   23.90   14.80   300.00  \n",
       "19       8.90   0.00   14.90  628.16  2331.31  \n",
       "20     150.73   4.90   34.10  679.80  4739.04  "
      ]
     },
     "execution_count": 9,
     "metadata": {},
     "output_type": "execute_result"
    }
   ],
   "source": [
    "data.head(12)"
   ]
  },
  {
   "cell_type": "code",
   "execution_count": 10,
   "metadata": {
    "collapsed": false
   },
   "outputs": [
    {
     "data": {
      "text/plain": [
       "学院编号    3538\n",
       "成绩排名    3538\n",
       "消费金额      37\n",
       "其他        37\n",
       "图书馆       37\n",
       "开水        37\n",
       "教务处       37\n",
       "文印中心      37\n",
       "校医院       37\n",
       "校车        37\n",
       "洗衣房       37\n",
       "淋浴        37\n",
       "超市        37\n",
       "食堂        37\n",
       "dtype: int64"
      ]
     },
     "execution_count": 10,
     "metadata": {},
     "output_type": "execute_result"
    }
   ],
   "source": [
    "data.isnull().sum()"
   ]
  },
  {
   "cell_type": "code",
   "execution_count": 25,
   "metadata": {
    "collapsed": true
   },
   "outputs": [],
   "source": [
    "ID_test =  pd.read_csv(\"../input/studentID_test.csv\",encoding='utf-8')\n",
    "ID_sub_train = pd.read_csv(\"../input/subsidy_train.csv\",encoding='utf-8')"
   ]
  },
  {
   "cell_type": "code",
   "execution_count": 30,
   "metadata": {
    "collapsed": false
   },
   "outputs": [
    {
     "data": {
      "text/html": [
       "<div>\n",
       "<table border=\"1\" class=\"dataframe\">\n",
       "  <thead>\n",
       "    <tr style=\"text-align: right;\">\n",
       "      <th></th>\n",
       "      <th>学生id</th>\n",
       "      <th>助学金金额</th>\n",
       "    </tr>\n",
       "  </thead>\n",
       "  <tbody>\n",
       "    <tr>\n",
       "      <th>0</th>\n",
       "      <td>0</td>\n",
       "      <td>0</td>\n",
       "    </tr>\n",
       "    <tr>\n",
       "      <th>1</th>\n",
       "      <td>1</td>\n",
       "      <td>0</td>\n",
       "    </tr>\n",
       "    <tr>\n",
       "      <th>2</th>\n",
       "      <td>8</td>\n",
       "      <td>0</td>\n",
       "    </tr>\n",
       "    <tr>\n",
       "      <th>3</th>\n",
       "      <td>9</td>\n",
       "      <td>0</td>\n",
       "    </tr>\n",
       "    <tr>\n",
       "      <th>4</th>\n",
       "      <td>10</td>\n",
       "      <td>0</td>\n",
       "    </tr>\n",
       "  </tbody>\n",
       "</table>\n",
       "</div>"
      ],
      "text/plain": [
       "   学生id  助学金金额\n",
       "0     0      0\n",
       "1     1      0\n",
       "2     8      0\n",
       "3     9      0\n",
       "4    10      0"
      ]
     },
     "execution_count": 30,
     "metadata": {},
     "output_type": "execute_result"
    }
   ],
   "source": [
    "ID_sub_train.head()"
   ]
  },
  {
   "cell_type": "code",
   "execution_count": 36,
   "metadata": {
    "collapsed": false
   },
   "outputs": [],
   "source": [
    "X_test = data.loc[ID_test.学生id,:]\n",
    "X_train = data.loc[ID_sub_train.学生id,:]\n",
    "Y_train = pd.get_dummies(ID_sub_train.助学金金额)"
   ]
  },
  {
   "cell_type": "code",
   "execution_count": 37,
   "metadata": {
    "collapsed": false
   },
   "outputs": [
    {
     "name": "stdout",
     "output_type": "stream",
     "text": [
      "(10783, 14) (10885, 14) (10885, 4)\n"
     ]
    }
   ],
   "source": [
    "print(X_test.shape,X_train.shape,Y_train.shape)"
   ]
  },
  {
   "cell_type": "code",
   "execution_count": 38,
   "metadata": {
    "collapsed": true
   },
   "outputs": [],
   "source": [
    "X_test.to_pickle('../input/X_test.pkl')\n",
    "X_train.to_pickle('../input/X_train.pkl')\n",
    "Y_train.to_pickle('../input/Y_train.pkl')"
   ]
  },
  {
   "cell_type": "code",
   "execution_count": 39,
   "metadata": {
    "collapsed": false
   },
   "outputs": [
    {
     "ename": "NameError",
     "evalue": "name 'pandas' is not defined",
     "output_type": "error",
     "traceback": [
      "\u001b[0;31m---------------------------------------------------------------------------\u001b[0m",
      "\u001b[0;31mNameError\u001b[0m                                 Traceback (most recent call last)",
      "\u001b[0;32m<ipython-input-39-cab2b1c152f9>\u001b[0m in \u001b[0;36m<module>\u001b[0;34m()\u001b[0m\n\u001b[0;32m----> 1\u001b[0;31m \u001b[0mpandas\u001b[0m\u001b[0;34m.\u001b[0m\u001b[0mread_pickle\u001b[0m\u001b[0;34m(\u001b[0m\u001b[0;34m'../input/Y_train.pkl'\u001b[0m\u001b[0;34m)\u001b[0m\u001b[0;34m.\u001b[0m\u001b[0mshape\u001b[0m\u001b[0;34m\u001b[0m\u001b[0m\n\u001b[0m",
      "\u001b[0;31mNameError\u001b[0m: name 'pandas' is not defined"
     ]
    }
   ],
   "source": [
    "pandas.read_pickle('../input/Y_train.pkl').shape"
   ]
  },
  {
   "cell_type": "code",
   "execution_count": null,
   "metadata": {
    "collapsed": true
   },
   "outputs": [],
   "source": []
  }
 ],
 "metadata": {
  "anaconda-cloud": {},
  "kernelspec": {
   "display_name": "Python [default]",
   "language": "python",
   "name": "python3"
  },
  "language_info": {
   "codemirror_mode": {
    "name": "ipython",
    "version": 3
   },
   "file_extension": ".py",
   "mimetype": "text/x-python",
   "name": "python",
   "nbconvert_exporter": "python",
   "pygments_lexer": "ipython3",
   "version": "3.5.2"
  }
 },
 "nbformat": 4,
 "nbformat_minor": 1
}
